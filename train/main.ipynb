{
 "cells": [
  {
   "cell_type": "code",
   "execution_count": 148,
   "metadata": {},
   "outputs": [],
   "source": [
    "import pandas as pd\n",
    "import numpy as np\n",
    "import matplotlib.pyplot as plt\n",
    "import sklearn as sk\n",
    "import re\n",
    "import nltk\n",
    "from nltk.corpus import stopwords\n",
    "from nltk.tokenize import word_tokenize\n",
    "from nltk.stem import PorterStemmer\n",
    "from nltk.stem import WordNetLemmatizer\n",
    "\n",
    "%matplotlib inline"
   ]
  },
  {
   "cell_type": "code",
   "execution_count": 149,
   "metadata": {},
   "outputs": [
    {
     "name": "stderr",
     "output_type": "stream",
     "text": [
      "[nltk_data] Downloading package wordnet to\n",
      "[nltk_data]     C:\\Users\\USER\\AppData\\Roaming\\nltk_data...\n",
      "[nltk_data]   Package wordnet is already up-to-date!\n",
      "[nltk_data] Downloading package punkt to\n",
      "[nltk_data]     C:\\Users\\USER\\AppData\\Roaming\\nltk_data...\n",
      "[nltk_data]   Package punkt is already up-to-date!\n"
     ]
    }
   ],
   "source": [
    "nltk.download('wordnet')\n",
    "nltk.download(\"punkt\") \n",
    "ps= PorterStemmer()\n",
    "wnl = WordNetLemmatizer()"
   ]
  },
  {
   "cell_type": "code",
   "execution_count": 150,
   "metadata": {},
   "outputs": [],
   "source": [
    "# import chardet\n",
    "\n",
    "# with open('../dataset/RATIO.csv', mode='rb') as file:\n",
    "#     raw_data = file.read()\n",
    "#     answer = chardet.detect(raw_data)\n",
    "\n",
    "# answer"
   ]
  },
  {
   "cell_type": "code",
   "execution_count": 151,
   "metadata": {},
   "outputs": [
    {
     "name": "stderr",
     "output_type": "stream",
     "text": [
      "C:\\Users\\USER\\AppData\\Local\\Temp\\ipykernel_22208\\2591924512.py:3: DtypeWarning: Columns (1,2) have mixed types. Specify dtype option on import or set low_memory=False.\n",
      "  dataset3  = pd.read_csv('../dataset/sentiment.csv', encoding='MacRoman')\n"
     ]
    }
   ],
   "source": [
    "dataset1  = pd.read_csv('../dataset/RATIO.csv', encoding='MacRoman')\n",
    "dataset2  = pd.read_csv('../dataset/Equal.csv',encoding='MacRoman')\n",
    "dataset3  = pd.read_csv('../dataset/sentiment.csv', encoding='MacRoman')"
   ]
  },
  {
   "cell_type": "code",
   "execution_count": 152,
   "metadata": {},
   "outputs": [],
   "source": [
    "data = pd.concat([dataset1, dataset2, dataset3], ignore_index=True)\n",
    "data= data[['Review', 'Summary', 'Sentiment']]\n",
    "data = data.apply(lambda x : x.str.lower() )"
   ]
  },
  {
   "cell_type": "code",
   "execution_count": 153,
   "metadata": {},
   "outputs": [
    {
     "name": "stderr",
     "output_type": "stream",
     "text": [
      "C:\\Users\\USER\\AppData\\Local\\Temp\\ipykernel_22208\\3575991364.py:1: SettingWithCopyWarning: \n",
      "A value is trying to be set on a copy of a slice from a DataFrame\n",
      "\n",
      "See the caveats in the documentation: https://pandas.pydata.org/pandas-docs/stable/user_guide/indexing.html#returning-a-view-versus-a-copy\n",
      "  data[['Review', 'Summary']].fillna(\" \", inplace=True,)\n"
     ]
    }
   ],
   "source": [
    "data[['Review', 'Summary']].fillna(\" \", inplace=True,)\n",
    "data.dropna(subset=['Sentiment'], inplace=True)\n",
    "data.replace(\"nan\", \" \", inplace=True)\n"
   ]
  },
  {
   "cell_type": "code",
   "execution_count": 154,
   "metadata": {},
   "outputs": [
    {
     "data": {
      "text/html": [
       "<div>\n",
       "<style scoped>\n",
       "    .dataframe tbody tr th:only-of-type {\n",
       "        vertical-align: middle;\n",
       "    }\n",
       "\n",
       "    .dataframe tbody tr th {\n",
       "        vertical-align: top;\n",
       "    }\n",
       "\n",
       "    .dataframe thead th {\n",
       "        text-align: right;\n",
       "    }\n",
       "</style>\n",
       "<table border=\"1\" class=\"dataframe\">\n",
       "  <thead>\n",
       "    <tr style=\"text-align: right;\">\n",
       "      <th></th>\n",
       "      <th>Review</th>\n",
       "      <th>Summary</th>\n",
       "      <th>Sentiment</th>\n",
       "    </tr>\n",
       "  </thead>\n",
       "  <tbody>\n",
       "    <tr>\n",
       "      <th>count</th>\n",
       "      <td>312301</td>\n",
       "      <td>312301</td>\n",
       "      <td>312301</td>\n",
       "    </tr>\n",
       "    <tr>\n",
       "      <th>unique</th>\n",
       "      <td>1420</td>\n",
       "      <td>103197</td>\n",
       "      <td>3</td>\n",
       "    </tr>\n",
       "    <tr>\n",
       "      <th>top</th>\n",
       "      <td></td>\n",
       "      <td>good</td>\n",
       "      <td>positive</td>\n",
       "    </tr>\n",
       "    <tr>\n",
       "      <th>freq</th>\n",
       "      <td>30805</td>\n",
       "      <td>17670</td>\n",
       "      <td>173035</td>\n",
       "    </tr>\n",
       "  </tbody>\n",
       "</table>\n",
       "</div>"
      ],
      "text/plain": [
       "        Review Summary Sentiment\n",
       "count   312301  312301    312301\n",
       "unique    1420  103197         3\n",
       "top               good  positive\n",
       "freq     30805   17670    173035"
      ]
     },
     "execution_count": 154,
     "metadata": {},
     "output_type": "execute_result"
    }
   ],
   "source": [
    "data.describe()"
   ]
  },
  {
   "cell_type": "code",
   "execution_count": 155,
   "metadata": {},
   "outputs": [],
   "source": [
    "\n",
    "data['agg_review'] = data['Summary'].fillna(\" \") +\" \" + data['Review'].fillna(\" \")"
   ]
  },
  {
   "cell_type": "code",
   "execution_count": 156,
   "metadata": {},
   "outputs": [
    {
     "data": {
      "text/html": [
       "<div>\n",
       "<style scoped>\n",
       "    .dataframe tbody tr th:only-of-type {\n",
       "        vertical-align: middle;\n",
       "    }\n",
       "\n",
       "    .dataframe tbody tr th {\n",
       "        vertical-align: top;\n",
       "    }\n",
       "\n",
       "    .dataframe thead th {\n",
       "        text-align: right;\n",
       "    }\n",
       "</style>\n",
       "<table border=\"1\" class=\"dataframe\">\n",
       "  <thead>\n",
       "    <tr style=\"text-align: right;\">\n",
       "      <th></th>\n",
       "      <th>agg_review</th>\n",
       "      <th>Sentiment</th>\n",
       "    </tr>\n",
       "  </thead>\n",
       "  <tbody>\n",
       "    <tr>\n",
       "      <th>0</th>\n",
       "      <td>problems 1 it gets auto defrost randomly anyti...</td>\n",
       "      <td>positive</td>\n",
       "    </tr>\n",
       "    <tr>\n",
       "      <th>1</th>\n",
       "      <td>freeze segment is tooo large so cooling segmen...</td>\n",
       "      <td>positive</td>\n",
       "    </tr>\n",
       "    <tr>\n",
       "      <th>2</th>\n",
       "      <td>warranty sticker is not present when its run d...</td>\n",
       "      <td>positive</td>\n",
       "    </tr>\n",
       "    <tr>\n",
       "      <th>3</th>\n",
       "      <td>everything is goodworking fine but it is silly...</td>\n",
       "      <td>positive</td>\n",
       "    </tr>\n",
       "    <tr>\n",
       "      <th>4</th>\n",
       "      <td>refrigerator working fine but top and side vie...</td>\n",
       "      <td>positive</td>\n",
       "    </tr>\n",
       "    <tr>\n",
       "      <th>...</th>\n",
       "      <td>...</td>\n",
       "      <td>...</td>\n",
       "    </tr>\n",
       "    <tr>\n",
       "      <th>312296</th>\n",
       "      <td>its very awesome productby every video makers ...</td>\n",
       "      <td>positive</td>\n",
       "    </tr>\n",
       "    <tr>\n",
       "      <th>312297</th>\n",
       "      <td>awesome product and clear sound just go it mus...</td>\n",
       "      <td>positive</td>\n",
       "    </tr>\n",
       "    <tr>\n",
       "      <th>312298</th>\n",
       "      <td>good perfect product!</td>\n",
       "      <td>positive</td>\n",
       "    </tr>\n",
       "    <tr>\n",
       "      <th>312299</th>\n",
       "      <td>lot of echo when recording slightly disappointed</td>\n",
       "      <td>negative</td>\n",
       "    </tr>\n",
       "    <tr>\n",
       "      <th>312300</th>\n",
       "      <td>it was not that good as i expected because ya ...</td>\n",
       "      <td>negative</td>\n",
       "    </tr>\n",
       "  </tbody>\n",
       "</table>\n",
       "<p>312301 rows × 2 columns</p>\n",
       "</div>"
      ],
      "text/plain": [
       "                                               agg_review Sentiment\n",
       "0       problems 1 it gets auto defrost randomly anyti...  positive\n",
       "1       freeze segment is tooo large so cooling segmen...  positive\n",
       "2       warranty sticker is not present when its run d...  positive\n",
       "3       everything is goodworking fine but it is silly...  positive\n",
       "4       refrigerator working fine but top and side vie...  positive\n",
       "...                                                   ...       ...\n",
       "312296  its very awesome productby every video makers ...  positive\n",
       "312297  awesome product and clear sound just go it mus...  positive\n",
       "312298                              good perfect product!  positive\n",
       "312299   lot of echo when recording slightly disappointed  negative\n",
       "312300  it was not that good as i expected because ya ...  negative\n",
       "\n",
       "[312301 rows x 2 columns]"
      ]
     },
     "execution_count": 156,
     "metadata": {},
     "output_type": "execute_result"
    }
   ],
   "source": [
    "df = data[['agg_review', 'Sentiment']]\n",
    "df"
   ]
  },
  {
   "cell_type": "code",
   "execution_count": 158,
   "metadata": {},
   "outputs": [
    {
     "data": {
      "text/html": [
       "<div>\n",
       "<style scoped>\n",
       "    .dataframe tbody tr th:only-of-type {\n",
       "        vertical-align: middle;\n",
       "    }\n",
       "\n",
       "    .dataframe tbody tr th {\n",
       "        vertical-align: top;\n",
       "    }\n",
       "\n",
       "    .dataframe thead th {\n",
       "        text-align: right;\n",
       "    }\n",
       "</style>\n",
       "<table border=\"1\" class=\"dataframe\">\n",
       "  <thead>\n",
       "    <tr style=\"text-align: right;\">\n",
       "      <th></th>\n",
       "      <th>agg_review</th>\n",
       "      <th>Sentiment</th>\n",
       "    </tr>\n",
       "  </thead>\n",
       "  <tbody>\n",
       "    <tr>\n",
       "      <th>count</th>\n",
       "      <td>312301</td>\n",
       "      <td>312301</td>\n",
       "    </tr>\n",
       "    <tr>\n",
       "      <th>unique</th>\n",
       "      <td>120945</td>\n",
       "      <td>3</td>\n",
       "    </tr>\n",
       "    <tr>\n",
       "      <th>top</th>\n",
       "      <td>good</td>\n",
       "      <td>positive</td>\n",
       "    </tr>\n",
       "    <tr>\n",
       "      <th>freq</th>\n",
       "      <td>2449</td>\n",
       "      <td>173035</td>\n",
       "    </tr>\n",
       "  </tbody>\n",
       "</table>\n",
       "</div>"
      ],
      "text/plain": [
       "       agg_review Sentiment\n",
       "count      312301    312301\n",
       "unique     120945         3\n",
       "top        good    positive\n",
       "freq         2449    173035"
      ]
     },
     "execution_count": 158,
     "metadata": {},
     "output_type": "execute_result"
    }
   ],
   "source": [
    "df.describe()"
   ]
  },
  {
   "cell_type": "code",
   "execution_count": null,
   "metadata": {},
   "outputs": [],
   "source": [
    "sample_data = data['Product_Description'][0]"
   ]
  },
  {
   "cell_type": "code",
   "execution_count": null,
   "metadata": {},
   "outputs": [
    {
     "data": {
      "text/plain": [
       "'The Web Designer\\x89Ûªs Guide to iOS (and Android) Apps, today @mention 10 a.m! {link} #sxsw'"
      ]
     },
     "execution_count": 8,
     "metadata": {},
     "output_type": "execute_result"
    }
   ],
   "source": [
    "sample_data"
   ]
  },
  {
   "cell_type": "markdown",
   "metadata": {},
   "source": [
    "##PREPROCESS DATA"
   ]
  },
  {
   "cell_type": "code",
   "execution_count": null,
   "metadata": {},
   "outputs": [
    {
     "data": {
      "text/html": [
       "<div>\n",
       "<style scoped>\n",
       "    .dataframe tbody tr th:only-of-type {\n",
       "        vertical-align: middle;\n",
       "    }\n",
       "\n",
       "    .dataframe tbody tr th {\n",
       "        vertical-align: top;\n",
       "    }\n",
       "\n",
       "    .dataframe thead th {\n",
       "        text-align: right;\n",
       "    }\n",
       "</style>\n",
       "<table border=\"1\" class=\"dataframe\">\n",
       "  <thead>\n",
       "    <tr style=\"text-align: right;\">\n",
       "      <th></th>\n",
       "      <th>Product_Description</th>\n",
       "      <th>Sentiment</th>\n",
       "    </tr>\n",
       "  </thead>\n",
       "  <tbody>\n",
       "    <tr>\n",
       "      <th>0</th>\n",
       "      <td>The Web DesignerÛªs Guide to iOS (and Android...</td>\n",
       "      <td>2</td>\n",
       "    </tr>\n",
       "    <tr>\n",
       "      <th>1</th>\n",
       "      <td>RT @mention Line for iPad 2 is longer today th...</td>\n",
       "      <td>2</td>\n",
       "    </tr>\n",
       "    <tr>\n",
       "      <th>2</th>\n",
       "      <td>Crazy that Apple is opening a temporary store ...</td>\n",
       "      <td>2</td>\n",
       "    </tr>\n",
       "    <tr>\n",
       "      <th>3</th>\n",
       "      <td>The lesson from Google One Pass: In this digit...</td>\n",
       "      <td>2</td>\n",
       "    </tr>\n",
       "    <tr>\n",
       "      <th>4</th>\n",
       "      <td>RT @mention At the panel: &amp;quot;Your mom has a...</td>\n",
       "      <td>2</td>\n",
       "    </tr>\n",
       "    <tr>\n",
       "      <th>...</th>\n",
       "      <td>...</td>\n",
       "      <td>...</td>\n",
       "    </tr>\n",
       "    <tr>\n",
       "      <th>6359</th>\n",
       "      <td>Thanks @mention for hosting this event #sxsw #...</td>\n",
       "      <td>2</td>\n",
       "    </tr>\n",
       "    <tr>\n",
       "      <th>6360</th>\n",
       "      <td>SXSW iPhone app is awesome, but iPad app crash...</td>\n",
       "      <td>1</td>\n",
       "    </tr>\n",
       "    <tr>\n",
       "      <th>6361</th>\n",
       "      <td>RT @mention RT @mention Download 20+ free trac...</td>\n",
       "      <td>2</td>\n",
       "    </tr>\n",
       "    <tr>\n",
       "      <th>6362</th>\n",
       "      <td>OH at Texas Social Media Awards: 'You don't ne...</td>\n",
       "      <td>2</td>\n",
       "    </tr>\n",
       "    <tr>\n",
       "      <th>6363</th>\n",
       "      <td>#Google launching a &amp;quot;major&amp;quot; new soci...</td>\n",
       "      <td>2</td>\n",
       "    </tr>\n",
       "  </tbody>\n",
       "</table>\n",
       "<p>6364 rows × 2 columns</p>\n",
       "</div>"
      ],
      "text/plain": [
       "                                    Product_Description  Sentiment\n",
       "0     The Web DesignerÛªs Guide to iOS (and Android...          2\n",
       "1     RT @mention Line for iPad 2 is longer today th...          2\n",
       "2     Crazy that Apple is opening a temporary store ...          2\n",
       "3     The lesson from Google One Pass: In this digit...          2\n",
       "4     RT @mention At the panel: &quot;Your mom has a...          2\n",
       "...                                                 ...        ...\n",
       "6359  Thanks @mention for hosting this event #sxsw #...          2\n",
       "6360  SXSW iPhone app is awesome, but iPad app crash...          1\n",
       "6361  RT @mention RT @mention Download 20+ free trac...          2\n",
       "6362  OH at Texas Social Media Awards: 'You don't ne...          2\n",
       "6363  #Google launching a &quot;major&quot; new soci...          2\n",
       "\n",
       "[6364 rows x 2 columns]"
      ]
     },
     "execution_count": 9,
     "metadata": {},
     "output_type": "execute_result"
    }
   ],
   "source": [
    "data = data.drop(['Text_ID','Product_Type' ], axis=1)\n",
    "data"
   ]
  },
  {
   "cell_type": "code",
   "execution_count": null,
   "metadata": {},
   "outputs": [],
   "source": [
    "def preprocess_data_lemmatize(text):\n",
    "    cleaned_data = re.sub(r\"[^A-Za-z\\s]\",\"\", text )\n",
    "    cleaned_data = cleaned_data.lower()\n",
    "    cleaned_data = word_tokenize(cleaned_data)\n",
    "    cleaned_data = [wnl.lemmatize(word) for word in cleaned_data if word not in stopwords.words('english')]\n",
    "    cleaned_data =\" \".join(cleaned_data)\n",
    "    return cleaned_data\n",
    "\n",
    "    "
   ]
  },
  {
   "cell_type": "code",
   "execution_count": null,
   "metadata": {},
   "outputs": [],
   "source": [
    "def preprocess_data_stem(text):\n",
    "    cleaned_data = re.sub(r\"[^A-Za-z\\s]\",\"\", text )\n",
    "    cleaned_data = cleaned_data.lower()\n",
    "    cleaned_data = word_tokenize(cleaned_data)\n",
    "    cleaned_data = [ps.stem(word) for word in cleaned_data if word not in stopwords.words('english')]\n",
    "    cleaned_data =\" \".join(cleaned_data)\n",
    "    return cleaned_data\n",
    "\n",
    "    "
   ]
  },
  {
   "cell_type": "code",
   "execution_count": null,
   "metadata": {},
   "outputs": [],
   "source": [
    "data['lemma_cleaned_text'] = data['Product_Description'].apply(preprocess_data_lemmatize)\n",
    "\n"
   ]
  },
  {
   "cell_type": "code",
   "execution_count": null,
   "metadata": {},
   "outputs": [],
   "source": [
    "data['stem_cleaned_text'] = data['Product_Description'].apply(preprocess_data_stem)"
   ]
  },
  {
   "cell_type": "code",
   "execution_count": null,
   "metadata": {},
   "outputs": [
    {
     "data": {
      "text/html": [
       "<div>\n",
       "<style scoped>\n",
       "    .dataframe tbody tr th:only-of-type {\n",
       "        vertical-align: middle;\n",
       "    }\n",
       "\n",
       "    .dataframe tbody tr th {\n",
       "        vertical-align: top;\n",
       "    }\n",
       "\n",
       "    .dataframe thead th {\n",
       "        text-align: right;\n",
       "    }\n",
       "</style>\n",
       "<table border=\"1\" class=\"dataframe\">\n",
       "  <thead>\n",
       "    <tr style=\"text-align: right;\">\n",
       "      <th></th>\n",
       "      <th>Product_Description</th>\n",
       "      <th>Sentiment</th>\n",
       "      <th>lemma_cleaned_text</th>\n",
       "      <th>stem_cleaned_text</th>\n",
       "    </tr>\n",
       "  </thead>\n",
       "  <tbody>\n",
       "    <tr>\n",
       "      <th>0</th>\n",
       "      <td>The Web DesignerÛªs Guide to iOS (and Android...</td>\n",
       "      <td>2</td>\n",
       "      <td>web designer guide io android apps today menti...</td>\n",
       "      <td>web design guid io android app today mention l...</td>\n",
       "    </tr>\n",
       "    <tr>\n",
       "      <th>1</th>\n",
       "      <td>RT @mention Line for iPad 2 is longer today th...</td>\n",
       "      <td>2</td>\n",
       "      <td>rt mention line ipad longer today yesterday sx...</td>\n",
       "      <td>rt mention line ipad longer today yesterday sx...</td>\n",
       "    </tr>\n",
       "    <tr>\n",
       "      <th>2</th>\n",
       "      <td>Crazy that Apple is opening a temporary store ...</td>\n",
       "      <td>2</td>\n",
       "      <td>crazy apple opening temporary store austin tom...</td>\n",
       "      <td>crazi appl open temporari store austin tomorro...</td>\n",
       "    </tr>\n",
       "    <tr>\n",
       "      <th>3</th>\n",
       "      <td>The lesson from Google One Pass: In this digit...</td>\n",
       "      <td>2</td>\n",
       "      <td>lesson google one pas digital environment user...</td>\n",
       "      <td>lesson googl one pass digit environ user want ...</td>\n",
       "    </tr>\n",
       "    <tr>\n",
       "      <th>4</th>\n",
       "      <td>RT @mention At the panel: &amp;quot;Your mom has a...</td>\n",
       "      <td>2</td>\n",
       "      <td>rt mention panel quotyour mom ipad designing b...</td>\n",
       "      <td>rt mention panel quotyour mom ipad design boom...</td>\n",
       "    </tr>\n",
       "    <tr>\n",
       "      <th>...</th>\n",
       "      <td>...</td>\n",
       "      <td>...</td>\n",
       "      <td>...</td>\n",
       "      <td>...</td>\n",
       "    </tr>\n",
       "    <tr>\n",
       "      <th>6359</th>\n",
       "      <td>Thanks @mention for hosting this event #sxsw #...</td>\n",
       "      <td>2</td>\n",
       "      <td>thanks mention hosting event sxsw sxswi iwanta...</td>\n",
       "      <td>thank mention host event sxsw sxswi iwantacr link</td>\n",
       "    </tr>\n",
       "    <tr>\n",
       "      <th>6360</th>\n",
       "      <td>SXSW iPhone app is awesome, but iPad app crash...</td>\n",
       "      <td>1</td>\n",
       "      <td>sxsw iphone app awesome ipad app crash every t...</td>\n",
       "      <td>sxsw iphon app awesom ipad app crash everi tim...</td>\n",
       "    </tr>\n",
       "    <tr>\n",
       "      <th>6361</th>\n",
       "      <td>RT @mention RT @mention Download 20+ free trac...</td>\n",
       "      <td>2</td>\n",
       "      <td>rt mention rt mention download free track ment...</td>\n",
       "      <td>rt mention rt mention download free track ment...</td>\n",
       "    </tr>\n",
       "    <tr>\n",
       "      <th>6362</th>\n",
       "      <td>OH at Texas Social Media Awards: 'You don't ne...</td>\n",
       "      <td>2</td>\n",
       "      <td>oh texas social medium award dont need ask mot...</td>\n",
       "      <td>oh texa social media award dont need ask mothe...</td>\n",
       "    </tr>\n",
       "    <tr>\n",
       "      <th>6363</th>\n",
       "      <td>#Google launching a &amp;quot;major&amp;quot; new soci...</td>\n",
       "      <td>2</td>\n",
       "      <td>google launching quotmajorquot new social netw...</td>\n",
       "      <td>googl launch quotmajorquot new social network ...</td>\n",
       "    </tr>\n",
       "  </tbody>\n",
       "</table>\n",
       "<p>6364 rows × 4 columns</p>\n",
       "</div>"
      ],
      "text/plain": [
       "                                    Product_Description  Sentiment  \\\n",
       "0     The Web DesignerÛªs Guide to iOS (and Android...          2   \n",
       "1     RT @mention Line for iPad 2 is longer today th...          2   \n",
       "2     Crazy that Apple is opening a temporary store ...          2   \n",
       "3     The lesson from Google One Pass: In this digit...          2   \n",
       "4     RT @mention At the panel: &quot;Your mom has a...          2   \n",
       "...                                                 ...        ...   \n",
       "6359  Thanks @mention for hosting this event #sxsw #...          2   \n",
       "6360  SXSW iPhone app is awesome, but iPad app crash...          1   \n",
       "6361  RT @mention RT @mention Download 20+ free trac...          2   \n",
       "6362  OH at Texas Social Media Awards: 'You don't ne...          2   \n",
       "6363  #Google launching a &quot;major&quot; new soci...          2   \n",
       "\n",
       "                                     lemma_cleaned_text  \\\n",
       "0     web designer guide io android apps today menti...   \n",
       "1     rt mention line ipad longer today yesterday sx...   \n",
       "2     crazy apple opening temporary store austin tom...   \n",
       "3     lesson google one pas digital environment user...   \n",
       "4     rt mention panel quotyour mom ipad designing b...   \n",
       "...                                                 ...   \n",
       "6359  thanks mention hosting event sxsw sxswi iwanta...   \n",
       "6360  sxsw iphone app awesome ipad app crash every t...   \n",
       "6361  rt mention rt mention download free track ment...   \n",
       "6362  oh texas social medium award dont need ask mot...   \n",
       "6363  google launching quotmajorquot new social netw...   \n",
       "\n",
       "                                      stem_cleaned_text  \n",
       "0     web design guid io android app today mention l...  \n",
       "1     rt mention line ipad longer today yesterday sx...  \n",
       "2     crazi appl open temporari store austin tomorro...  \n",
       "3     lesson googl one pass digit environ user want ...  \n",
       "4     rt mention panel quotyour mom ipad design boom...  \n",
       "...                                                 ...  \n",
       "6359  thank mention host event sxsw sxswi iwantacr link  \n",
       "6360  sxsw iphon app awesom ipad app crash everi tim...  \n",
       "6361  rt mention rt mention download free track ment...  \n",
       "6362  oh texa social media award dont need ask mothe...  \n",
       "6363  googl launch quotmajorquot new social network ...  \n",
       "\n",
       "[6364 rows x 4 columns]"
      ]
     },
     "execution_count": 14,
     "metadata": {},
     "output_type": "execute_result"
    }
   ],
   "source": [
    "data"
   ]
  },
  {
   "cell_type": "markdown",
   "metadata": {},
   "source": [
    "##ENCODING"
   ]
  },
  {
   "cell_type": "code",
   "execution_count": null,
   "metadata": {},
   "outputs": [],
   "source": [
    "from sklearn.model_selection import train_test_split\n"
   ]
  },
  {
   "cell_type": "code",
   "execution_count": null,
   "metadata": {},
   "outputs": [],
   "source": []
  },
  {
   "cell_type": "code",
   "execution_count": null,
   "metadata": {},
   "outputs": [],
   "source": [
    "labels = data[\"Sentiment\"]\n",
    "feature = data['lemma_cleaned_text']"
   ]
  },
  {
   "cell_type": "code",
   "execution_count": null,
   "metadata": {},
   "outputs": [],
   "source": [
    "x_train, x_test, y_train, y_test  = train_test_split(feature,labels, test_size=0.3, random_state=142)"
   ]
  },
  {
   "cell_type": "markdown",
   "metadata": {},
   "source": [
    "USING BAG OF WORDS"
   ]
  },
  {
   "cell_type": "code",
   "execution_count": null,
   "metadata": {},
   "outputs": [
    {
     "data": {
      "text/plain": [
       "5562    rt rumor apple opening temporary store downtow...\n",
       "2281    developer learn mobile accessibility sxsw andr...\n",
       "6212    google launch major new social network called ...\n",
       "4082    barry diller say youre silly write content one...\n",
       "5417    yeah wasnt got couldnt resist wearing blue jea...\n",
       "                              ...                        \n",
       "1616           mention awesome traded sxsw last year ipad\n",
       "6317    spotted google map street view car wonder ill ...\n",
       "5146    rt mention sxsw uxdes check designing ipad int...\n",
       "4607               google handing free pi pi day sxsw win\n",
       "277     shocked see google showcasing blogger sxsw tho...\n",
       "Name: lemma_cleaned_text, Length: 4454, dtype: object"
      ]
     },
     "execution_count": 25,
     "metadata": {},
     "output_type": "execute_result"
    }
   ],
   "source": [
    "x_train"
   ]
  },
  {
   "cell_type": "code",
   "execution_count": null,
   "metadata": {},
   "outputs": [],
   "source": [
    "from sklearn.feature_extraction.text import CountVectorizer\n",
    "vectorizer = CountVectorizer(max_features=1000, ngram_range=(1,2))\n",
    "feature_vec = vectorizer.fit_transform(x_train)"
   ]
  },
  {
   "cell_type": "code",
   "execution_count": null,
   "metadata": {},
   "outputs": [
    {
     "name": "stdout",
     "output_type": "stream",
     "text": [
      "['aapl' 'aaron' 'aarpbulletin' ... 'zone' 'zuckerberg' 'zynga']\n"
     ]
    },
    {
     "name": "stdout",
     "output_type": "stream",
     "text": [
      "[[0 0 0 ... 0 0 0]\n",
      " [0 0 0 ... 0 0 0]\n",
      " [0 0 0 ... 0 0 0]\n",
      " ...\n",
      " [0 0 0 ... 0 0 0]\n",
      " [0 0 0 ... 0 0 0]\n",
      " [0 0 0 ... 0 0 0]]\n"
     ]
    }
   ],
   "source": [
    "print(vectorizer.get_feature_names_out())\n",
    "print(feature_vec.toarray())"
   ]
  },
  {
   "cell_type": "code",
   "execution_count": null,
   "metadata": {},
   "outputs": [
    {
     "name": "stdout",
     "output_type": "stream",
     "text": [
      "None\n"
     ]
    }
   ],
   "source": []
  },
  {
   "cell_type": "code",
   "execution_count": null,
   "metadata": {},
   "outputs": [
    {
     "data": {
      "text/plain": [
       "array([[0, 0, 0, ..., 0, 0, 0],\n",
       "       [0, 0, 0, ..., 0, 0, 0],\n",
       "       [0, 0, 0, ..., 0, 0, 0],\n",
       "       ...,\n",
       "       [0, 0, 0, ..., 0, 0, 0],\n",
       "       [0, 0, 0, ..., 0, 0, 0],\n",
       "       [0, 0, 0, ..., 0, 0, 0]], shape=(4454, 6707))"
      ]
     },
     "execution_count": 24,
     "metadata": {},
     "output_type": "execute_result"
    }
   ],
   "source": [
    "feature_vec.toarray()"
   ]
  },
  {
   "cell_type": "code",
   "execution_count": null,
   "metadata": {},
   "outputs": [],
   "source": []
  }
 ],
 "metadata": {
  "kernelspec": {
   "display_name": "venv",
   "language": "python",
   "name": "python3"
  },
  "language_info": {
   "codemirror_mode": {
    "name": "ipython",
    "version": 3
   },
   "file_extension": ".py",
   "mimetype": "text/x-python",
   "name": "python",
   "nbconvert_exporter": "python",
   "pygments_lexer": "ipython3",
   "version": "3.13.2"
  }
 },
 "nbformat": 4,
 "nbformat_minor": 2
}
