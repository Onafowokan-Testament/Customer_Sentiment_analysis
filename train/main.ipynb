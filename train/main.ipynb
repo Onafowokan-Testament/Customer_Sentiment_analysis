{
 "cells": [
  {
   "cell_type": "code",
   "execution_count": 2,
   "metadata": {},
   "outputs": [],
   "source": [
    "import pandas as pd\n",
    "import numpy as np\n",
    "import matplotlib.pyplot as plt\n",
    "import sklearn as sk\n",
    "import re\n",
    "import nltk\n",
    "from nltk.corpus import stopwords\n",
    "from nltk.tokenize import word_tokenize\n",
    "from nltk.stem import PorterStemmer\n",
    "from nltk.stem import WordNetLemmatizer\n",
    "\n",
    "%matplotlib inline"
   ]
  },
  {
   "cell_type": "code",
   "execution_count": 3,
   "metadata": {},
   "outputs": [
    {
     "name": "stderr",
     "output_type": "stream",
     "text": [
      "[nltk_data] Downloading package wordnet to\n",
      "[nltk_data]     C:\\Users\\USER\\AppData\\Roaming\\nltk_data...\n",
      "[nltk_data]   Package wordnet is already up-to-date!\n"
     ]
    },
    {
     "data": {
      "text/plain": [
       "True"
      ]
     },
     "execution_count": 3,
     "metadata": {},
     "output_type": "execute_result"
    }
   ],
   "source": [
    "nltk.download('wordnet')"
   ]
  },
  {
   "cell_type": "code",
   "execution_count": 4,
   "metadata": {},
   "outputs": [
    {
     "name": "stderr",
     "output_type": "stream",
     "text": [
      "[nltk_data] Downloading package punkt to\n",
      "[nltk_data]     C:\\Users\\USER\\AppData\\Roaming\\nltk_data...\n",
      "[nltk_data]   Package punkt is already up-to-date!\n"
     ]
    },
    {
     "data": {
      "text/plain": [
       "True"
      ]
     },
     "execution_count": 4,
     "metadata": {},
     "output_type": "execute_result"
    }
   ],
   "source": [
    "nltk.download(\"punkt\") "
   ]
  },
  {
   "cell_type": "code",
   "execution_count": 5,
   "metadata": {},
   "outputs": [],
   "source": [
    "ps= PorterStemmer()\n",
    "wnl = WordNetLemmatizer()"
   ]
  },
  {
   "cell_type": "code",
   "execution_count": 6,
   "metadata": {},
   "outputs": [],
   "source": [
    "#TODO PREPROCESS ALL DOCUMENTS\n",
    "#TODO "
   ]
  },
  {
   "cell_type": "code",
   "execution_count": null,
   "metadata": {},
   "outputs": [
    {
     "data": {
      "text/plain": [
       "{'encoding': 'MacRoman', 'confidence': 0.597774786220692, 'language': ''}"
      ]
     },
     "execution_count": 16,
     "metadata": {},
     "output_type": "execute_result"
    }
   ],
   "source": [
    "import chardet\n",
    "\n",
    "with open('../dataset/RATIO.csv', mode='rb') as file:\n",
    "    raw_data = file.read()\n",
    "    answer = chardet.detect(raw_data)\n",
    "\n",
    "answer"
   ]
  },
  {
   "cell_type": "code",
   "execution_count": 34,
   "metadata": {},
   "outputs": [],
   "source": [
    "dataset1  = pd.read_csv('../dataset/RATIO.csv', encoding='MacRoman')\n"
   ]
  },
  {
   "cell_type": "code",
   "execution_count": 33,
   "metadata": {},
   "outputs": [],
   "source": [
    "dataset2  = pd.read_csv('../dataset/Equal.csv',encoding='MacRoman')\n"
   ]
  },
  {
   "cell_type": "code",
   "execution_count": 32,
   "metadata": {},
   "outputs": [
    {
     "name": "stderr",
     "output_type": "stream",
     "text": [
      "C:\\Users\\USER\\AppData\\Local\\Temp\\ipykernel_21808\\3583425108.py:1: DtypeWarning: Columns (1,2) have mixed types. Specify dtype option on import or set low_memory=False.\n",
      "  dataset3  = pd.read_csv('../dataset/sentiment.csv', encoding='MacRoman')\n"
     ]
    }
   ],
   "source": [
    "dataset3  = pd.read_csv('../dataset/sentiment.csv', encoding='MacRoman')\n"
   ]
  },
  {
   "cell_type": "code",
   "execution_count": 42,
   "metadata": {},
   "outputs": [],
   "source": [
    "data = pd.concat([dataset1, dataset2, dataset3], ignore_index=True)"
   ]
  },
  {
   "cell_type": "code",
   "execution_count": 43,
   "metadata": {},
   "outputs": [
    {
     "data": {
      "text/html": [
       "<div>\n",
       "<style scoped>\n",
       "    .dataframe tbody tr th:only-of-type {\n",
       "        vertical-align: middle;\n",
       "    }\n",
       "\n",
       "    .dataframe tbody tr th {\n",
       "        vertical-align: top;\n",
       "    }\n",
       "\n",
       "    .dataframe thead th {\n",
       "        text-align: right;\n",
       "    }\n",
       "</style>\n",
       "<table border=\"1\" class=\"dataframe\">\n",
       "  <thead>\n",
       "    <tr style=\"text-align: right;\">\n",
       "      <th></th>\n",
       "      <th>product_name</th>\n",
       "      <th>product_price</th>\n",
       "      <th>Rate</th>\n",
       "      <th>Review</th>\n",
       "      <th>Summary</th>\n",
       "      <th>Sentiment</th>\n",
       "      <th>ProductName</th>\n",
       "      <th>ProductPrice</th>\n",
       "    </tr>\n",
       "  </thead>\n",
       "  <tbody>\n",
       "    <tr>\n",
       "      <th>0</th>\n",
       "      <td>SAMSUNG 198 L Direct Cool Single Door 5 Star R...</td>\n",
       "      <td>?ü?ü???ü?ü?????õ?ü?ü?????ü???????ü?ü?????ü????...</td>\n",
       "      <td>1</td>\n",
       "      <td>Very poor</td>\n",
       "      <td>problems 1 it gets auto defrost randomly anyti...</td>\n",
       "      <td>positive</td>\n",
       "      <td>NaN</td>\n",
       "      <td>NaN</td>\n",
       "    </tr>\n",
       "    <tr>\n",
       "      <th>1</th>\n",
       "      <td>SAMSUNG 236 L Frost Free Double Door 2 Star Re...</td>\n",
       "      <td>?ü?ü???ü?ü?????õ?ü?ü?????ü???????ü?ü?????ü????...</td>\n",
       "      <td>2</td>\n",
       "      <td>Moderate</td>\n",
       "      <td>freeze segment is tooo large so cooling segmen...</td>\n",
       "      <td>positive</td>\n",
       "      <td>NaN</td>\n",
       "      <td>NaN</td>\n",
       "    </tr>\n",
       "    <tr>\n",
       "      <th>2</th>\n",
       "      <td>SAMSUNG 189 L Direct Cool Single Door 5 Star R...</td>\n",
       "      <td>?ü?ü???ü?ü?????õ?ü?ü?????ü???????ü?ü?????ü????...</td>\n",
       "      <td>3</td>\n",
       "      <td>Nice</td>\n",
       "      <td>warranty sticker is not present when its run d...</td>\n",
       "      <td>positive</td>\n",
       "      <td>NaN</td>\n",
       "      <td>NaN</td>\n",
       "    </tr>\n",
       "    <tr>\n",
       "      <th>3</th>\n",
       "      <td>SAMSUNG 253 L Frost Free Double Door 3 Star Co...</td>\n",
       "      <td>?ü?ü???ü?ü?????õ?ü?ü?????ü???????ü?ü?????ü????...</td>\n",
       "      <td>3</td>\n",
       "      <td>Just okay</td>\n",
       "      <td>everything is goodworking fine but it is silly...</td>\n",
       "      <td>positive</td>\n",
       "      <td>NaN</td>\n",
       "      <td>NaN</td>\n",
       "    </tr>\n",
       "    <tr>\n",
       "      <th>4</th>\n",
       "      <td>Godrej 180 L Direct Cool Single Door 2 Star Re...</td>\n",
       "      <td>?ü?ü???ü?ü?????õ?ü?ü?????ü???????ü?ü?????ü????...</td>\n",
       "      <td>3</td>\n",
       "      <td>Decent product</td>\n",
       "      <td>refrigerator working fine but top and side vie...</td>\n",
       "      <td>positive</td>\n",
       "      <td>NaN</td>\n",
       "      <td>NaN</td>\n",
       "    </tr>\n",
       "    <tr>\n",
       "      <th>...</th>\n",
       "      <td>...</td>\n",
       "      <td>...</td>\n",
       "      <td>...</td>\n",
       "      <td>...</td>\n",
       "      <td>...</td>\n",
       "      <td>...</td>\n",
       "      <td>...</td>\n",
       "      <td>...</td>\n",
       "    </tr>\n",
       "    <tr>\n",
       "      <th>312297</th>\n",
       "      <td>NaN</td>\n",
       "      <td>NaN</td>\n",
       "      <td>5.0</td>\n",
       "      <td>Must buy!</td>\n",
       "      <td>awesome product and clear sound just go it</td>\n",
       "      <td>positive</td>\n",
       "      <td>mobspy 3.5mm Clip Microphone For Youtube | Col...</td>\n",
       "      <td>168.0</td>\n",
       "    </tr>\n",
       "    <tr>\n",
       "      <th>312298</th>\n",
       "      <td>NaN</td>\n",
       "      <td>NaN</td>\n",
       "      <td>5.0</td>\n",
       "      <td>Perfect product!</td>\n",
       "      <td>good</td>\n",
       "      <td>positive</td>\n",
       "      <td>mobspy 3.5mm Clip Microphone For Youtube | Col...</td>\n",
       "      <td>168.0</td>\n",
       "    </tr>\n",
       "    <tr>\n",
       "      <th>312299</th>\n",
       "      <td>NaN</td>\n",
       "      <td>NaN</td>\n",
       "      <td>2.0</td>\n",
       "      <td>Slightly disappointed</td>\n",
       "      <td>lot of echo when recording</td>\n",
       "      <td>negative</td>\n",
       "      <td>mobspy 3.5mm Clip Microphone For Youtube | Col...</td>\n",
       "      <td>168.0</td>\n",
       "    </tr>\n",
       "    <tr>\n",
       "      <th>312300</th>\n",
       "      <td>NaN</td>\n",
       "      <td>NaN</td>\n",
       "      <td>2.0</td>\n",
       "      <td>Moderate</td>\n",
       "      <td>it was not that good as i expected because ya ...</td>\n",
       "      <td>negative</td>\n",
       "      <td>mobspy 3.5mm Clip Microphone For Youtube | Col...</td>\n",
       "      <td>168.0</td>\n",
       "    </tr>\n",
       "    <tr>\n",
       "      <th>312301</th>\n",
       "      <td>NaN</td>\n",
       "      <td>NaN</td>\n",
       "      <td>NaN</td>\n",
       "      <td>NaN</td>\n",
       "      <td>NaN</td>\n",
       "      <td>NaN</td>\n",
       "      <td>\u001a</td>\n",
       "      <td>NaN</td>\n",
       "    </tr>\n",
       "  </tbody>\n",
       "</table>\n",
       "<p>312302 rows × 8 columns</p>\n",
       "</div>"
      ],
      "text/plain": [
       "                                             product_name  \\\n",
       "0       SAMSUNG 198 L Direct Cool Single Door 5 Star R...   \n",
       "1       SAMSUNG 236 L Frost Free Double Door 2 Star Re...   \n",
       "2       SAMSUNG 189 L Direct Cool Single Door 5 Star R...   \n",
       "3       SAMSUNG 253 L Frost Free Double Door 3 Star Co...   \n",
       "4       Godrej 180 L Direct Cool Single Door 2 Star Re...   \n",
       "...                                                   ...   \n",
       "312297                                                NaN   \n",
       "312298                                                NaN   \n",
       "312299                                                NaN   \n",
       "312300                                                NaN   \n",
       "312301                                                NaN   \n",
       "\n",
       "                                            product_price Rate  \\\n",
       "0       ?ü?ü???ü?ü?????õ?ü?ü?????ü???????ü?ü?????ü????...    1   \n",
       "1       ?ü?ü???ü?ü?????õ?ü?ü?????ü???????ü?ü?????ü????...    2   \n",
       "2       ?ü?ü???ü?ü?????õ?ü?ü?????ü???????ü?ü?????ü????...    3   \n",
       "3       ?ü?ü???ü?ü?????õ?ü?ü?????ü???????ü?ü?????ü????...    3   \n",
       "4       ?ü?ü???ü?ü?????õ?ü?ü?????ü???????ü?ü?????ü????...    3   \n",
       "...                                                   ...  ...   \n",
       "312297                                                NaN  5.0   \n",
       "312298                                                NaN  5.0   \n",
       "312299                                                NaN  2.0   \n",
       "312300                                                NaN  2.0   \n",
       "312301                                                NaN  NaN   \n",
       "\n",
       "                       Review  \\\n",
       "0                   Very poor   \n",
       "1                    Moderate   \n",
       "2                        Nice   \n",
       "3                   Just okay   \n",
       "4              Decent product   \n",
       "...                       ...   \n",
       "312297              Must buy!   \n",
       "312298       Perfect product!   \n",
       "312299  Slightly disappointed   \n",
       "312300               Moderate   \n",
       "312301                    NaN   \n",
       "\n",
       "                                                  Summary Sentiment  \\\n",
       "0       problems 1 it gets auto defrost randomly anyti...  positive   \n",
       "1       freeze segment is tooo large so cooling segmen...  positive   \n",
       "2       warranty sticker is not present when its run d...  positive   \n",
       "3       everything is goodworking fine but it is silly...  positive   \n",
       "4       refrigerator working fine but top and side vie...  positive   \n",
       "...                                                   ...       ...   \n",
       "312297         awesome product and clear sound just go it  positive   \n",
       "312298                                               good  positive   \n",
       "312299                         lot of echo when recording  negative   \n",
       "312300  it was not that good as i expected because ya ...  negative   \n",
       "312301                                                NaN       NaN   \n",
       "\n",
       "                                              ProductName ProductPrice  \n",
       "0                                                     NaN          NaN  \n",
       "1                                                     NaN          NaN  \n",
       "2                                                     NaN          NaN  \n",
       "3                                                     NaN          NaN  \n",
       "4                                                     NaN          NaN  \n",
       "...                                                   ...          ...  \n",
       "312297  mobspy 3.5mm Clip Microphone For Youtube | Col...        168.0  \n",
       "312298  mobspy 3.5mm Clip Microphone For Youtube | Col...        168.0  \n",
       "312299  mobspy 3.5mm Clip Microphone For Youtube | Col...        168.0  \n",
       "312300  mobspy 3.5mm Clip Microphone For Youtube | Col...        168.0  \n",
       "312301                                                  \u001a          NaN  \n",
       "\n",
       "[312302 rows x 8 columns]"
      ]
     },
     "execution_count": 43,
     "metadata": {},
     "output_type": "execute_result"
    }
   ],
   "source": [
    "data"
   ]
  },
  {
   "cell_type": "code",
   "execution_count": 64,
   "metadata": {},
   "outputs": [],
   "source": [
    "\n",
    "data['agg_review'] = data['Summary'].fillna(\"\") +\" \" + data['Review'].fillna(\"\")"
   ]
  },
  {
   "cell_type": "code",
   "execution_count": 67,
   "metadata": {},
   "outputs": [
    {
     "data": {
      "text/html": [
       "<div>\n",
       "<style scoped>\n",
       "    .dataframe tbody tr th:only-of-type {\n",
       "        vertical-align: middle;\n",
       "    }\n",
       "\n",
       "    .dataframe tbody tr th {\n",
       "        vertical-align: top;\n",
       "    }\n",
       "\n",
       "    .dataframe thead th {\n",
       "        text-align: right;\n",
       "    }\n",
       "</style>\n",
       "<table border=\"1\" class=\"dataframe\">\n",
       "  <thead>\n",
       "    <tr style=\"text-align: right;\">\n",
       "      <th></th>\n",
       "      <th>agg_review</th>\n",
       "      <th>Sentiment</th>\n",
       "    </tr>\n",
       "  </thead>\n",
       "  <tbody>\n",
       "    <tr>\n",
       "      <th>0</th>\n",
       "      <td>problems 1 it gets auto defrost randomly anyti...</td>\n",
       "      <td>positive</td>\n",
       "    </tr>\n",
       "    <tr>\n",
       "      <th>1</th>\n",
       "      <td>freeze segment is tooo large so cooling segmen...</td>\n",
       "      <td>positive</td>\n",
       "    </tr>\n",
       "    <tr>\n",
       "      <th>2</th>\n",
       "      <td>warranty sticker is not present when its run d...</td>\n",
       "      <td>positive</td>\n",
       "    </tr>\n",
       "    <tr>\n",
       "      <th>3</th>\n",
       "      <td>everything is goodworking fine but it is silly...</td>\n",
       "      <td>positive</td>\n",
       "    </tr>\n",
       "    <tr>\n",
       "      <th>4</th>\n",
       "      <td>refrigerator working fine but top and side vie...</td>\n",
       "      <td>positive</td>\n",
       "    </tr>\n",
       "    <tr>\n",
       "      <th>...</th>\n",
       "      <td>...</td>\n",
       "      <td>...</td>\n",
       "    </tr>\n",
       "    <tr>\n",
       "      <th>312297</th>\n",
       "      <td>awesome product and clear sound just go it Mus...</td>\n",
       "      <td>positive</td>\n",
       "    </tr>\n",
       "    <tr>\n",
       "      <th>312298</th>\n",
       "      <td>good Perfect product!</td>\n",
       "      <td>positive</td>\n",
       "    </tr>\n",
       "    <tr>\n",
       "      <th>312299</th>\n",
       "      <td>lot of echo when recording Slightly disappointed</td>\n",
       "      <td>negative</td>\n",
       "    </tr>\n",
       "    <tr>\n",
       "      <th>312300</th>\n",
       "      <td>it was not that good as i expected because ya ...</td>\n",
       "      <td>negative</td>\n",
       "    </tr>\n",
       "    <tr>\n",
       "      <th>312301</th>\n",
       "      <td></td>\n",
       "      <td>NaN</td>\n",
       "    </tr>\n",
       "  </tbody>\n",
       "</table>\n",
       "<p>312302 rows × 2 columns</p>\n",
       "</div>"
      ],
      "text/plain": [
       "                                               agg_review Sentiment\n",
       "0       problems 1 it gets auto defrost randomly anyti...  positive\n",
       "1       freeze segment is tooo large so cooling segmen...  positive\n",
       "2       warranty sticker is not present when its run d...  positive\n",
       "3       everything is goodworking fine but it is silly...  positive\n",
       "4       refrigerator working fine but top and side vie...  positive\n",
       "...                                                   ...       ...\n",
       "312297  awesome product and clear sound just go it Mus...  positive\n",
       "312298                              good Perfect product!  positive\n",
       "312299   lot of echo when recording Slightly disappointed  negative\n",
       "312300  it was not that good as i expected because ya ...  negative\n",
       "312301                                                          NaN\n",
       "\n",
       "[312302 rows x 2 columns]"
      ]
     },
     "execution_count": 67,
     "metadata": {},
     "output_type": "execute_result"
    }
   ],
   "source": [
    "df = data[['agg_review', 'Sentiment']]\n",
    "df"
   ]
  },
  {
   "cell_type": "code",
   "execution_count": null,
   "metadata": {},
   "outputs": [],
   "source": []
  },
  {
   "cell_type": "code",
   "execution_count": null,
   "metadata": {},
   "outputs": [
    {
     "data": {
      "text/html": [
       "<div>\n",
       "<style scoped>\n",
       "    .dataframe tbody tr th:only-of-type {\n",
       "        vertical-align: middle;\n",
       "    }\n",
       "\n",
       "    .dataframe tbody tr th {\n",
       "        vertical-align: top;\n",
       "    }\n",
       "\n",
       "    .dataframe thead th {\n",
       "        text-align: right;\n",
       "    }\n",
       "</style>\n",
       "<table border=\"1\" class=\"dataframe\">\n",
       "  <thead>\n",
       "    <tr style=\"text-align: right;\">\n",
       "      <th></th>\n",
       "      <th>Text_ID</th>\n",
       "      <th>Product_Description</th>\n",
       "      <th>Product_Type</th>\n",
       "      <th>Sentiment</th>\n",
       "    </tr>\n",
       "  </thead>\n",
       "  <tbody>\n",
       "    <tr>\n",
       "      <th>0</th>\n",
       "      <td>3057</td>\n",
       "      <td>The Web DesignerÛªs Guide to iOS (and Android...</td>\n",
       "      <td>9</td>\n",
       "      <td>2</td>\n",
       "    </tr>\n",
       "    <tr>\n",
       "      <th>1</th>\n",
       "      <td>6254</td>\n",
       "      <td>RT @mention Line for iPad 2 is longer today th...</td>\n",
       "      <td>9</td>\n",
       "      <td>2</td>\n",
       "    </tr>\n",
       "    <tr>\n",
       "      <th>2</th>\n",
       "      <td>8212</td>\n",
       "      <td>Crazy that Apple is opening a temporary store ...</td>\n",
       "      <td>9</td>\n",
       "      <td>2</td>\n",
       "    </tr>\n",
       "    <tr>\n",
       "      <th>3</th>\n",
       "      <td>4422</td>\n",
       "      <td>The lesson from Google One Pass: In this digit...</td>\n",
       "      <td>9</td>\n",
       "      <td>2</td>\n",
       "    </tr>\n",
       "    <tr>\n",
       "      <th>4</th>\n",
       "      <td>5526</td>\n",
       "      <td>RT @mention At the panel: &amp;quot;Your mom has a...</td>\n",
       "      <td>9</td>\n",
       "      <td>2</td>\n",
       "    </tr>\n",
       "    <tr>\n",
       "      <th>...</th>\n",
       "      <td>...</td>\n",
       "      <td>...</td>\n",
       "      <td>...</td>\n",
       "      <td>...</td>\n",
       "    </tr>\n",
       "    <tr>\n",
       "      <th>6359</th>\n",
       "      <td>2945</td>\n",
       "      <td>Thanks @mention for hosting this event #sxsw #...</td>\n",
       "      <td>9</td>\n",
       "      <td>2</td>\n",
       "    </tr>\n",
       "    <tr>\n",
       "      <th>6360</th>\n",
       "      <td>4528</td>\n",
       "      <td>SXSW iPhone app is awesome, but iPad app crash...</td>\n",
       "      <td>7</td>\n",
       "      <td>1</td>\n",
       "    </tr>\n",
       "    <tr>\n",
       "      <th>6361</th>\n",
       "      <td>6526</td>\n",
       "      <td>RT @mention RT @mention Download 20+ free trac...</td>\n",
       "      <td>9</td>\n",
       "      <td>2</td>\n",
       "    </tr>\n",
       "    <tr>\n",
       "      <th>6362</th>\n",
       "      <td>2110</td>\n",
       "      <td>OH at Texas Social Media Awards: 'You don't ne...</td>\n",
       "      <td>9</td>\n",
       "      <td>2</td>\n",
       "    </tr>\n",
       "    <tr>\n",
       "      <th>6363</th>\n",
       "      <td>2177</td>\n",
       "      <td>#Google launching a &amp;quot;major&amp;quot; new soci...</td>\n",
       "      <td>9</td>\n",
       "      <td>2</td>\n",
       "    </tr>\n",
       "  </tbody>\n",
       "</table>\n",
       "<p>6364 rows × 4 columns</p>\n",
       "</div>"
      ],
      "text/plain": [
       "      Text_ID                                Product_Description  \\\n",
       "0        3057  The Web DesignerÛªs Guide to iOS (and Android...   \n",
       "1        6254  RT @mention Line for iPad 2 is longer today th...   \n",
       "2        8212  Crazy that Apple is opening a temporary store ...   \n",
       "3        4422  The lesson from Google One Pass: In this digit...   \n",
       "4        5526  RT @mention At the panel: &quot;Your mom has a...   \n",
       "...       ...                                                ...   \n",
       "6359     2945  Thanks @mention for hosting this event #sxsw #...   \n",
       "6360     4528  SXSW iPhone app is awesome, but iPad app crash...   \n",
       "6361     6526  RT @mention RT @mention Download 20+ free trac...   \n",
       "6362     2110  OH at Texas Social Media Awards: 'You don't ne...   \n",
       "6363     2177  #Google launching a &quot;major&quot; new soci...   \n",
       "\n",
       "      Product_Type  Sentiment  \n",
       "0                9          2  \n",
       "1                9          2  \n",
       "2                9          2  \n",
       "3                9          2  \n",
       "4                9          2  \n",
       "...            ...        ...  \n",
       "6359             9          2  \n",
       "6360             7          1  \n",
       "6361             9          2  \n",
       "6362             9          2  \n",
       "6363             9          2  \n",
       "\n",
       "[6364 rows x 4 columns]"
      ]
     },
     "execution_count": 6,
     "metadata": {},
     "output_type": "execute_result"
    }
   ],
   "source": [
    "data = pd.read_csv(\"../dataset/Train.csv\")\n",
    "data"
   ]
  },
  {
   "cell_type": "code",
   "execution_count": null,
   "metadata": {},
   "outputs": [],
   "source": [
    "sample_data = data['Product_Description'][0]"
   ]
  },
  {
   "cell_type": "code",
   "execution_count": null,
   "metadata": {},
   "outputs": [
    {
     "data": {
      "text/plain": [
       "'The Web Designer\\x89Ûªs Guide to iOS (and Android) Apps, today @mention 10 a.m! {link} #sxsw'"
      ]
     },
     "execution_count": 8,
     "metadata": {},
     "output_type": "execute_result"
    }
   ],
   "source": [
    "sample_data"
   ]
  },
  {
   "cell_type": "markdown",
   "metadata": {},
   "source": [
    "##PREPROCESS DATA"
   ]
  },
  {
   "cell_type": "code",
   "execution_count": null,
   "metadata": {},
   "outputs": [
    {
     "data": {
      "text/html": [
       "<div>\n",
       "<style scoped>\n",
       "    .dataframe tbody tr th:only-of-type {\n",
       "        vertical-align: middle;\n",
       "    }\n",
       "\n",
       "    .dataframe tbody tr th {\n",
       "        vertical-align: top;\n",
       "    }\n",
       "\n",
       "    .dataframe thead th {\n",
       "        text-align: right;\n",
       "    }\n",
       "</style>\n",
       "<table border=\"1\" class=\"dataframe\">\n",
       "  <thead>\n",
       "    <tr style=\"text-align: right;\">\n",
       "      <th></th>\n",
       "      <th>Product_Description</th>\n",
       "      <th>Sentiment</th>\n",
       "    </tr>\n",
       "  </thead>\n",
       "  <tbody>\n",
       "    <tr>\n",
       "      <th>0</th>\n",
       "      <td>The Web DesignerÛªs Guide to iOS (and Android...</td>\n",
       "      <td>2</td>\n",
       "    </tr>\n",
       "    <tr>\n",
       "      <th>1</th>\n",
       "      <td>RT @mention Line for iPad 2 is longer today th...</td>\n",
       "      <td>2</td>\n",
       "    </tr>\n",
       "    <tr>\n",
       "      <th>2</th>\n",
       "      <td>Crazy that Apple is opening a temporary store ...</td>\n",
       "      <td>2</td>\n",
       "    </tr>\n",
       "    <tr>\n",
       "      <th>3</th>\n",
       "      <td>The lesson from Google One Pass: In this digit...</td>\n",
       "      <td>2</td>\n",
       "    </tr>\n",
       "    <tr>\n",
       "      <th>4</th>\n",
       "      <td>RT @mention At the panel: &amp;quot;Your mom has a...</td>\n",
       "      <td>2</td>\n",
       "    </tr>\n",
       "    <tr>\n",
       "      <th>...</th>\n",
       "      <td>...</td>\n",
       "      <td>...</td>\n",
       "    </tr>\n",
       "    <tr>\n",
       "      <th>6359</th>\n",
       "      <td>Thanks @mention for hosting this event #sxsw #...</td>\n",
       "      <td>2</td>\n",
       "    </tr>\n",
       "    <tr>\n",
       "      <th>6360</th>\n",
       "      <td>SXSW iPhone app is awesome, but iPad app crash...</td>\n",
       "      <td>1</td>\n",
       "    </tr>\n",
       "    <tr>\n",
       "      <th>6361</th>\n",
       "      <td>RT @mention RT @mention Download 20+ free trac...</td>\n",
       "      <td>2</td>\n",
       "    </tr>\n",
       "    <tr>\n",
       "      <th>6362</th>\n",
       "      <td>OH at Texas Social Media Awards: 'You don't ne...</td>\n",
       "      <td>2</td>\n",
       "    </tr>\n",
       "    <tr>\n",
       "      <th>6363</th>\n",
       "      <td>#Google launching a &amp;quot;major&amp;quot; new soci...</td>\n",
       "      <td>2</td>\n",
       "    </tr>\n",
       "  </tbody>\n",
       "</table>\n",
       "<p>6364 rows × 2 columns</p>\n",
       "</div>"
      ],
      "text/plain": [
       "                                    Product_Description  Sentiment\n",
       "0     The Web DesignerÛªs Guide to iOS (and Android...          2\n",
       "1     RT @mention Line for iPad 2 is longer today th...          2\n",
       "2     Crazy that Apple is opening a temporary store ...          2\n",
       "3     The lesson from Google One Pass: In this digit...          2\n",
       "4     RT @mention At the panel: &quot;Your mom has a...          2\n",
       "...                                                 ...        ...\n",
       "6359  Thanks @mention for hosting this event #sxsw #...          2\n",
       "6360  SXSW iPhone app is awesome, but iPad app crash...          1\n",
       "6361  RT @mention RT @mention Download 20+ free trac...          2\n",
       "6362  OH at Texas Social Media Awards: 'You don't ne...          2\n",
       "6363  #Google launching a &quot;major&quot; new soci...          2\n",
       "\n",
       "[6364 rows x 2 columns]"
      ]
     },
     "execution_count": 9,
     "metadata": {},
     "output_type": "execute_result"
    }
   ],
   "source": [
    "data = data.drop(['Text_ID','Product_Type' ], axis=1)\n",
    "data"
   ]
  },
  {
   "cell_type": "code",
   "execution_count": null,
   "metadata": {},
   "outputs": [],
   "source": [
    "def preprocess_data_lemmatize(text):\n",
    "    cleaned_data = re.sub(r\"[^A-Za-z\\s]\",\"\", text )\n",
    "    cleaned_data = cleaned_data.lower()\n",
    "    cleaned_data = word_tokenize(cleaned_data)\n",
    "    cleaned_data = [wnl.lemmatize(word) for word in cleaned_data if word not in stopwords.words('english')]\n",
    "    cleaned_data =\" \".join(cleaned_data)\n",
    "    return cleaned_data\n",
    "\n",
    "    "
   ]
  },
  {
   "cell_type": "code",
   "execution_count": null,
   "metadata": {},
   "outputs": [],
   "source": [
    "def preprocess_data_stem(text):\n",
    "    cleaned_data = re.sub(r\"[^A-Za-z\\s]\",\"\", text )\n",
    "    cleaned_data = cleaned_data.lower()\n",
    "    cleaned_data = word_tokenize(cleaned_data)\n",
    "    cleaned_data = [ps.stem(word) for word in cleaned_data if word not in stopwords.words('english')]\n",
    "    cleaned_data =\" \".join(cleaned_data)\n",
    "    return cleaned_data\n",
    "\n",
    "    "
   ]
  },
  {
   "cell_type": "code",
   "execution_count": null,
   "metadata": {},
   "outputs": [],
   "source": [
    "data['lemma_cleaned_text'] = data['Product_Description'].apply(preprocess_data_lemmatize)\n",
    "\n"
   ]
  },
  {
   "cell_type": "code",
   "execution_count": null,
   "metadata": {},
   "outputs": [],
   "source": [
    "data['stem_cleaned_text'] = data['Product_Description'].apply(preprocess_data_stem)"
   ]
  },
  {
   "cell_type": "code",
   "execution_count": null,
   "metadata": {},
   "outputs": [
    {
     "data": {
      "text/html": [
       "<div>\n",
       "<style scoped>\n",
       "    .dataframe tbody tr th:only-of-type {\n",
       "        vertical-align: middle;\n",
       "    }\n",
       "\n",
       "    .dataframe tbody tr th {\n",
       "        vertical-align: top;\n",
       "    }\n",
       "\n",
       "    .dataframe thead th {\n",
       "        text-align: right;\n",
       "    }\n",
       "</style>\n",
       "<table border=\"1\" class=\"dataframe\">\n",
       "  <thead>\n",
       "    <tr style=\"text-align: right;\">\n",
       "      <th></th>\n",
       "      <th>Product_Description</th>\n",
       "      <th>Sentiment</th>\n",
       "      <th>lemma_cleaned_text</th>\n",
       "      <th>stem_cleaned_text</th>\n",
       "    </tr>\n",
       "  </thead>\n",
       "  <tbody>\n",
       "    <tr>\n",
       "      <th>0</th>\n",
       "      <td>The Web DesignerÛªs Guide to iOS (and Android...</td>\n",
       "      <td>2</td>\n",
       "      <td>web designer guide io android apps today menti...</td>\n",
       "      <td>web design guid io android app today mention l...</td>\n",
       "    </tr>\n",
       "    <tr>\n",
       "      <th>1</th>\n",
       "      <td>RT @mention Line for iPad 2 is longer today th...</td>\n",
       "      <td>2</td>\n",
       "      <td>rt mention line ipad longer today yesterday sx...</td>\n",
       "      <td>rt mention line ipad longer today yesterday sx...</td>\n",
       "    </tr>\n",
       "    <tr>\n",
       "      <th>2</th>\n",
       "      <td>Crazy that Apple is opening a temporary store ...</td>\n",
       "      <td>2</td>\n",
       "      <td>crazy apple opening temporary store austin tom...</td>\n",
       "      <td>crazi appl open temporari store austin tomorro...</td>\n",
       "    </tr>\n",
       "    <tr>\n",
       "      <th>3</th>\n",
       "      <td>The lesson from Google One Pass: In this digit...</td>\n",
       "      <td>2</td>\n",
       "      <td>lesson google one pas digital environment user...</td>\n",
       "      <td>lesson googl one pass digit environ user want ...</td>\n",
       "    </tr>\n",
       "    <tr>\n",
       "      <th>4</th>\n",
       "      <td>RT @mention At the panel: &amp;quot;Your mom has a...</td>\n",
       "      <td>2</td>\n",
       "      <td>rt mention panel quotyour mom ipad designing b...</td>\n",
       "      <td>rt mention panel quotyour mom ipad design boom...</td>\n",
       "    </tr>\n",
       "    <tr>\n",
       "      <th>...</th>\n",
       "      <td>...</td>\n",
       "      <td>...</td>\n",
       "      <td>...</td>\n",
       "      <td>...</td>\n",
       "    </tr>\n",
       "    <tr>\n",
       "      <th>6359</th>\n",
       "      <td>Thanks @mention for hosting this event #sxsw #...</td>\n",
       "      <td>2</td>\n",
       "      <td>thanks mention hosting event sxsw sxswi iwanta...</td>\n",
       "      <td>thank mention host event sxsw sxswi iwantacr link</td>\n",
       "    </tr>\n",
       "    <tr>\n",
       "      <th>6360</th>\n",
       "      <td>SXSW iPhone app is awesome, but iPad app crash...</td>\n",
       "      <td>1</td>\n",
       "      <td>sxsw iphone app awesome ipad app crash every t...</td>\n",
       "      <td>sxsw iphon app awesom ipad app crash everi tim...</td>\n",
       "    </tr>\n",
       "    <tr>\n",
       "      <th>6361</th>\n",
       "      <td>RT @mention RT @mention Download 20+ free trac...</td>\n",
       "      <td>2</td>\n",
       "      <td>rt mention rt mention download free track ment...</td>\n",
       "      <td>rt mention rt mention download free track ment...</td>\n",
       "    </tr>\n",
       "    <tr>\n",
       "      <th>6362</th>\n",
       "      <td>OH at Texas Social Media Awards: 'You don't ne...</td>\n",
       "      <td>2</td>\n",
       "      <td>oh texas social medium award dont need ask mot...</td>\n",
       "      <td>oh texa social media award dont need ask mothe...</td>\n",
       "    </tr>\n",
       "    <tr>\n",
       "      <th>6363</th>\n",
       "      <td>#Google launching a &amp;quot;major&amp;quot; new soci...</td>\n",
       "      <td>2</td>\n",
       "      <td>google launching quotmajorquot new social netw...</td>\n",
       "      <td>googl launch quotmajorquot new social network ...</td>\n",
       "    </tr>\n",
       "  </tbody>\n",
       "</table>\n",
       "<p>6364 rows × 4 columns</p>\n",
       "</div>"
      ],
      "text/plain": [
       "                                    Product_Description  Sentiment  \\\n",
       "0     The Web DesignerÛªs Guide to iOS (and Android...          2   \n",
       "1     RT @mention Line for iPad 2 is longer today th...          2   \n",
       "2     Crazy that Apple is opening a temporary store ...          2   \n",
       "3     The lesson from Google One Pass: In this digit...          2   \n",
       "4     RT @mention At the panel: &quot;Your mom has a...          2   \n",
       "...                                                 ...        ...   \n",
       "6359  Thanks @mention for hosting this event #sxsw #...          2   \n",
       "6360  SXSW iPhone app is awesome, but iPad app crash...          1   \n",
       "6361  RT @mention RT @mention Download 20+ free trac...          2   \n",
       "6362  OH at Texas Social Media Awards: 'You don't ne...          2   \n",
       "6363  #Google launching a &quot;major&quot; new soci...          2   \n",
       "\n",
       "                                     lemma_cleaned_text  \\\n",
       "0     web designer guide io android apps today menti...   \n",
       "1     rt mention line ipad longer today yesterday sx...   \n",
       "2     crazy apple opening temporary store austin tom...   \n",
       "3     lesson google one pas digital environment user...   \n",
       "4     rt mention panel quotyour mom ipad designing b...   \n",
       "...                                                 ...   \n",
       "6359  thanks mention hosting event sxsw sxswi iwanta...   \n",
       "6360  sxsw iphone app awesome ipad app crash every t...   \n",
       "6361  rt mention rt mention download free track ment...   \n",
       "6362  oh texas social medium award dont need ask mot...   \n",
       "6363  google launching quotmajorquot new social netw...   \n",
       "\n",
       "                                      stem_cleaned_text  \n",
       "0     web design guid io android app today mention l...  \n",
       "1     rt mention line ipad longer today yesterday sx...  \n",
       "2     crazi appl open temporari store austin tomorro...  \n",
       "3     lesson googl one pass digit environ user want ...  \n",
       "4     rt mention panel quotyour mom ipad design boom...  \n",
       "...                                                 ...  \n",
       "6359  thank mention host event sxsw sxswi iwantacr link  \n",
       "6360  sxsw iphon app awesom ipad app crash everi tim...  \n",
       "6361  rt mention rt mention download free track ment...  \n",
       "6362  oh texa social media award dont need ask mothe...  \n",
       "6363  googl launch quotmajorquot new social network ...  \n",
       "\n",
       "[6364 rows x 4 columns]"
      ]
     },
     "execution_count": 14,
     "metadata": {},
     "output_type": "execute_result"
    }
   ],
   "source": [
    "data"
   ]
  },
  {
   "cell_type": "markdown",
   "metadata": {},
   "source": [
    "##ENCODING"
   ]
  },
  {
   "cell_type": "code",
   "execution_count": null,
   "metadata": {},
   "outputs": [],
   "source": [
    "from sklearn.model_selection import train_test_split\n"
   ]
  },
  {
   "cell_type": "code",
   "execution_count": null,
   "metadata": {},
   "outputs": [],
   "source": []
  },
  {
   "cell_type": "code",
   "execution_count": null,
   "metadata": {},
   "outputs": [],
   "source": [
    "labels = data[\"Sentiment\"]\n",
    "feature = data['lemma_cleaned_text']"
   ]
  },
  {
   "cell_type": "code",
   "execution_count": null,
   "metadata": {},
   "outputs": [],
   "source": [
    "x_train, x_test, y_train, y_test  = train_test_split(feature,labels, test_size=0.3, random_state=142)"
   ]
  },
  {
   "cell_type": "markdown",
   "metadata": {},
   "source": [
    "USING BAG OF WORDS"
   ]
  },
  {
   "cell_type": "code",
   "execution_count": null,
   "metadata": {},
   "outputs": [
    {
     "data": {
      "text/plain": [
       "5562    rt rumor apple opening temporary store downtow...\n",
       "2281    developer learn mobile accessibility sxsw andr...\n",
       "6212    google launch major new social network called ...\n",
       "4082    barry diller say youre silly write content one...\n",
       "5417    yeah wasnt got couldnt resist wearing blue jea...\n",
       "                              ...                        \n",
       "1616           mention awesome traded sxsw last year ipad\n",
       "6317    spotted google map street view car wonder ill ...\n",
       "5146    rt mention sxsw uxdes check designing ipad int...\n",
       "4607               google handing free pi pi day sxsw win\n",
       "277     shocked see google showcasing blogger sxsw tho...\n",
       "Name: lemma_cleaned_text, Length: 4454, dtype: object"
      ]
     },
     "execution_count": 25,
     "metadata": {},
     "output_type": "execute_result"
    }
   ],
   "source": [
    "x_train"
   ]
  },
  {
   "cell_type": "code",
   "execution_count": null,
   "metadata": {},
   "outputs": [],
   "source": [
    "from sklearn.feature_extraction.text import CountVectorizer\n",
    "vectorizer = CountVectorizer(max_features=1000, ngram_range=(1,2))\n",
    "feature_vec = vectorizer.fit_transform(x_train)"
   ]
  },
  {
   "cell_type": "code",
   "execution_count": null,
   "metadata": {},
   "outputs": [
    {
     "name": "stdout",
     "output_type": "stream",
     "text": [
      "['aapl' 'aaron' 'aarpbulletin' ... 'zone' 'zuckerberg' 'zynga']\n"
     ]
    },
    {
     "name": "stdout",
     "output_type": "stream",
     "text": [
      "[[0 0 0 ... 0 0 0]\n",
      " [0 0 0 ... 0 0 0]\n",
      " [0 0 0 ... 0 0 0]\n",
      " ...\n",
      " [0 0 0 ... 0 0 0]\n",
      " [0 0 0 ... 0 0 0]\n",
      " [0 0 0 ... 0 0 0]]\n"
     ]
    }
   ],
   "source": [
    "print(vectorizer.get_feature_names_out())\n",
    "print(feature_vec.toarray())"
   ]
  },
  {
   "cell_type": "code",
   "execution_count": null,
   "metadata": {},
   "outputs": [
    {
     "name": "stdout",
     "output_type": "stream",
     "text": [
      "None\n"
     ]
    }
   ],
   "source": []
  },
  {
   "cell_type": "code",
   "execution_count": null,
   "metadata": {},
   "outputs": [
    {
     "data": {
      "text/plain": [
       "array([[0, 0, 0, ..., 0, 0, 0],\n",
       "       [0, 0, 0, ..., 0, 0, 0],\n",
       "       [0, 0, 0, ..., 0, 0, 0],\n",
       "       ...,\n",
       "       [0, 0, 0, ..., 0, 0, 0],\n",
       "       [0, 0, 0, ..., 0, 0, 0],\n",
       "       [0, 0, 0, ..., 0, 0, 0]], shape=(4454, 6707))"
      ]
     },
     "execution_count": 24,
     "metadata": {},
     "output_type": "execute_result"
    }
   ],
   "source": [
    "feature_vec.toarray()"
   ]
  },
  {
   "cell_type": "code",
   "execution_count": null,
   "metadata": {},
   "outputs": [],
   "source": []
  }
 ],
 "metadata": {
  "kernelspec": {
   "display_name": "venv",
   "language": "python",
   "name": "python3"
  },
  "language_info": {
   "codemirror_mode": {
    "name": "ipython",
    "version": 3
   },
   "file_extension": ".py",
   "mimetype": "text/x-python",
   "name": "python",
   "nbconvert_exporter": "python",
   "pygments_lexer": "ipython3",
   "version": "3.13.2"
  }
 },
 "nbformat": 4,
 "nbformat_minor": 2
}
